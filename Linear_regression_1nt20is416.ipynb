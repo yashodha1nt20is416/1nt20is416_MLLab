{
 "cells": [
  {
   "cell_type": "code",
   "execution_count": 12,
   "id": "7f1a5ce3",
   "metadata": {},
   "outputs": [],
   "source": [
    "import pandas as pd\n",
    "import numpy as np\n",
    "import matplotlib.pyplot as plt"
   ]
  },
  {
   "cell_type": "code",
   "execution_count": 3,
   "id": "1b2578b8",
   "metadata": {},
   "outputs": [],
   "source": [
    "data=pd.read_csv('/home/ignis/Downloads/foodtruck.csv')"
   ]
  },
  {
   "cell_type": "code",
   "execution_count": 4,
   "id": "46736eb2",
   "metadata": {},
   "outputs": [
    {
     "data": {
      "text/html": [
       "<div>\n",
       "<style scoped>\n",
       "    .dataframe tbody tr th:only-of-type {\n",
       "        vertical-align: middle;\n",
       "    }\n",
       "\n",
       "    .dataframe tbody tr th {\n",
       "        vertical-align: top;\n",
       "    }\n",
       "\n",
       "    .dataframe thead th {\n",
       "        text-align: right;\n",
       "    }\n",
       "</style>\n",
       "<table border=\"1\" class=\"dataframe\">\n",
       "  <thead>\n",
       "    <tr style=\"text-align: right;\">\n",
       "      <th></th>\n",
       "      <th>6.1101</th>\n",
       "      <th>17.592</th>\n",
       "    </tr>\n",
       "  </thead>\n",
       "  <tbody>\n",
       "    <tr>\n",
       "      <th>0</th>\n",
       "      <td>5.5277</td>\n",
       "      <td>9.13020</td>\n",
       "    </tr>\n",
       "    <tr>\n",
       "      <th>1</th>\n",
       "      <td>8.5186</td>\n",
       "      <td>13.66200</td>\n",
       "    </tr>\n",
       "    <tr>\n",
       "      <th>2</th>\n",
       "      <td>7.0032</td>\n",
       "      <td>11.85400</td>\n",
       "    </tr>\n",
       "    <tr>\n",
       "      <th>3</th>\n",
       "      <td>5.8598</td>\n",
       "      <td>6.82330</td>\n",
       "    </tr>\n",
       "    <tr>\n",
       "      <th>4</th>\n",
       "      <td>8.3829</td>\n",
       "      <td>11.88600</td>\n",
       "    </tr>\n",
       "    <tr>\n",
       "      <th>...</th>\n",
       "      <td>...</td>\n",
       "      <td>...</td>\n",
       "    </tr>\n",
       "    <tr>\n",
       "      <th>91</th>\n",
       "      <td>5.8707</td>\n",
       "      <td>7.20290</td>\n",
       "    </tr>\n",
       "    <tr>\n",
       "      <th>92</th>\n",
       "      <td>5.3054</td>\n",
       "      <td>1.98690</td>\n",
       "    </tr>\n",
       "    <tr>\n",
       "      <th>93</th>\n",
       "      <td>8.2934</td>\n",
       "      <td>0.14454</td>\n",
       "    </tr>\n",
       "    <tr>\n",
       "      <th>94</th>\n",
       "      <td>13.3940</td>\n",
       "      <td>9.05510</td>\n",
       "    </tr>\n",
       "    <tr>\n",
       "      <th>95</th>\n",
       "      <td>5.4369</td>\n",
       "      <td>0.61705</td>\n",
       "    </tr>\n",
       "  </tbody>\n",
       "</table>\n",
       "<p>96 rows × 2 columns</p>\n",
       "</div>"
      ],
      "text/plain": [
       "     6.1101    17.592\n",
       "0    5.5277   9.13020\n",
       "1    8.5186  13.66200\n",
       "2    7.0032  11.85400\n",
       "3    5.8598   6.82330\n",
       "4    8.3829  11.88600\n",
       "..      ...       ...\n",
       "91   5.8707   7.20290\n",
       "92   5.3054   1.98690\n",
       "93   8.2934   0.14454\n",
       "94  13.3940   9.05510\n",
       "95   5.4369   0.61705\n",
       "\n",
       "[96 rows x 2 columns]"
      ]
     },
     "execution_count": 4,
     "metadata": {},
     "output_type": "execute_result"
    }
   ],
   "source": [
    "data\n"
   ]
  },
  {
   "cell_type": "code",
   "execution_count": 5,
   "id": "2a1a6fb6",
   "metadata": {},
   "outputs": [],
   "source": [
    "columns=['X','Y']\n",
    "data.columns=columns"
   ]
  },
  {
   "cell_type": "code",
   "execution_count": 6,
   "id": "dbf4d710",
   "metadata": {},
   "outputs": [
    {
     "data": {
      "text/html": [
       "<div>\n",
       "<style scoped>\n",
       "    .dataframe tbody tr th:only-of-type {\n",
       "        vertical-align: middle;\n",
       "    }\n",
       "\n",
       "    .dataframe tbody tr th {\n",
       "        vertical-align: top;\n",
       "    }\n",
       "\n",
       "    .dataframe thead th {\n",
       "        text-align: right;\n",
       "    }\n",
       "</style>\n",
       "<table border=\"1\" class=\"dataframe\">\n",
       "  <thead>\n",
       "    <tr style=\"text-align: right;\">\n",
       "      <th></th>\n",
       "      <th>X</th>\n",
       "      <th>Y</th>\n",
       "    </tr>\n",
       "  </thead>\n",
       "  <tbody>\n",
       "    <tr>\n",
       "      <th>0</th>\n",
       "      <td>5.5277</td>\n",
       "      <td>9.13020</td>\n",
       "    </tr>\n",
       "    <tr>\n",
       "      <th>1</th>\n",
       "      <td>8.5186</td>\n",
       "      <td>13.66200</td>\n",
       "    </tr>\n",
       "    <tr>\n",
       "      <th>2</th>\n",
       "      <td>7.0032</td>\n",
       "      <td>11.85400</td>\n",
       "    </tr>\n",
       "    <tr>\n",
       "      <th>3</th>\n",
       "      <td>5.8598</td>\n",
       "      <td>6.82330</td>\n",
       "    </tr>\n",
       "    <tr>\n",
       "      <th>4</th>\n",
       "      <td>8.3829</td>\n",
       "      <td>11.88600</td>\n",
       "    </tr>\n",
       "    <tr>\n",
       "      <th>...</th>\n",
       "      <td>...</td>\n",
       "      <td>...</td>\n",
       "    </tr>\n",
       "    <tr>\n",
       "      <th>91</th>\n",
       "      <td>5.8707</td>\n",
       "      <td>7.20290</td>\n",
       "    </tr>\n",
       "    <tr>\n",
       "      <th>92</th>\n",
       "      <td>5.3054</td>\n",
       "      <td>1.98690</td>\n",
       "    </tr>\n",
       "    <tr>\n",
       "      <th>93</th>\n",
       "      <td>8.2934</td>\n",
       "      <td>0.14454</td>\n",
       "    </tr>\n",
       "    <tr>\n",
       "      <th>94</th>\n",
       "      <td>13.3940</td>\n",
       "      <td>9.05510</td>\n",
       "    </tr>\n",
       "    <tr>\n",
       "      <th>95</th>\n",
       "      <td>5.4369</td>\n",
       "      <td>0.61705</td>\n",
       "    </tr>\n",
       "  </tbody>\n",
       "</table>\n",
       "<p>96 rows × 2 columns</p>\n",
       "</div>"
      ],
      "text/plain": [
       "          X         Y\n",
       "0    5.5277   9.13020\n",
       "1    8.5186  13.66200\n",
       "2    7.0032  11.85400\n",
       "3    5.8598   6.82330\n",
       "4    8.3829  11.88600\n",
       "..      ...       ...\n",
       "91   5.8707   7.20290\n",
       "92   5.3054   1.98690\n",
       "93   8.2934   0.14454\n",
       "94  13.3940   9.05510\n",
       "95   5.4369   0.61705\n",
       "\n",
       "[96 rows x 2 columns]"
      ]
     },
     "execution_count": 6,
     "metadata": {},
     "output_type": "execute_result"
    }
   ],
   "source": [
    "data\n"
   ]
  },
  {
   "cell_type": "code",
   "execution_count": 7,
   "id": "24744745",
   "metadata": {},
   "outputs": [],
   "source": [
    "Y=data['Y']\n",
    "X=data['X']"
   ]
  },
  {
   "cell_type": "code",
   "execution_count": 22,
   "id": "a4abf6e7",
   "metadata": {},
   "outputs": [],
   "source": [
    "def plot_regression_line(x, y, b):\n",
    "   \n",
    "    plt.scatter(x, y, marker = \"o\", s = 30)\n",
    "  \n",
    "\n",
    "    y_pred = b[0] + b[1]*x\n",
    "  \n",
    "\n",
    "    plt.plot(x, y_pred, color = \"g\")\n",
    "\n",
    "    plt.xlabel('x')\n",
    "    plt.ylabel('y')\n",
    "  \n",
    "   \n",
    "    plt.show()"
   ]
  },
  {
   "cell_type": "code",
   "execution_count": 21,
   "id": "1cac0f60",
   "metadata": {},
   "outputs": [
    {
     "data": {
      "text/plain": [
       "<matplotlib.collections.PathCollection at 0x7f9c61546490>"
      ]
     },
     "execution_count": 21,
     "metadata": {},
     "output_type": "execute_result"
    },
    {
     "data": {
      "image/png": "[encoded data removed]",
      "text/plain": [
       "<Figure size 432x288 with 1 Axes>"
      ]
     },
     "metadata": {
      "needs_background": "light"
     },
     "output_type": "display_data"
    }
   ],
   "source": [
    "plt.scatter(X,Y)"
   ]
  },
  {
   "cell_type": "code",
   "execution_count": 50,
   "id": "f110b90e",
   "metadata": {},
   "outputs": [],
   "source": [
    "def calc_coef(X,Y):\n",
    "    s=np.size(X)\n",
    "    print(s)\n",
    "    m_x = np.mean(X)\n",
    "    m_y = np.mean(Y)\n",
    "    i=0\n",
    "    ssxy=0\n",
    "    ssxx=0\n",
    "    for i in range(s):\n",
    "        \n",
    "        ssxy+=(X[i]-m_x)*(Y[i]-m_y)\n",
    "        ssxx+=(X[i]-m_x)*(X[i]-m_x)\n",
    "        \n",
    "    m=ssxy/ssxx\n",
    "    \n",
    "    c=m_y-m*m_x\n",
    "    print(ssxx)\n",
    "    print(ssxy)\n",
    "    \n",
    "    return (c,m)\n",
    "        "
   ]
  },
  {
   "cell_type": "code",
   "execution_count": 97,
   "id": "3b1a2377",
   "metadata": {},
   "outputs": [
    {
     "name": "stdout",
     "output_type": "stream",
     "text": [
      "96\n",
      "1433.4508245398956\n",
      "1739.5603117330625\n"
     ]
    }
   ],
   "source": [
    "coeff=calc_coef(X,Y)"
   ]
  },
  {
   "cell_type": "code",
   "execution_count": 98,
   "id": "7434e6be",
   "metadata": {},
   "outputs": [
    {
     "name": "stdout",
     "output_type": "stream",
     "text": [
      "Value of c  and m are:\n",
      "-4.211504005424096 1.2135472539083585\n"
     ]
    }
   ],
   "source": [
    "coeff\n",
    "print(\"Value of c  and m are:\")\n",
    "print(coeff[0],coeff[1])"
   ]
  },
  {
   "cell_type": "code",
   "execution_count": 99,
   "id": "ece3ef81",
   "metadata": {},
   "outputs": [
    {
     "name": "stdout",
     "output_type": "stream",
     "text": [
      "Green line is predicted Ycap against original X values\n"
     ]
    },
    {
     "data": {
      "image/png": "[encoded data removed]",
      "text/plain": [
       "<Figure size 432x288 with 1 Axes>"
      ]
     },
     "metadata": {
      "needs_background": "light"
     },
     "output_type": "display_data"
    }
   ],
   "source": [
    "print(\"Green line is predicted Ycap against original X values\")\n",
    "plot_regression_line(X,Y,coeff)"
   ]
  },
  {
   "cell_type": "code",
   "execution_count": 96,
   "id": "c8f774a5",
   "metadata": {},
   "outputs": [],
   "source": [
    "def y_pred(m,c,X):\n",
    "   \n",
    "    s=np.size(X)\n",
    "    Ycap=[0]*s\n",
    "    i=0\n",
    "    for i in range(s):\n",
    "        Ycap[i]=m*X[i]+c\n",
    "        \n",
    " \n",
    "    return Ycap"
   ]
  },
  {
   "cell_type": "code",
   "execution_count": 63,
   "id": "dec8f650",
   "metadata": {},
   "outputs": [],
   "source": [
    "Ycap=y_pred(coeff[1],coeff[0],X)"
   ]
  },
  {
   "cell_type": "code",
   "execution_count": 95,
   "id": "79d77aef",
   "metadata": {},
   "outputs": [
    {
     "data": {
      "text/plain": [
       "[<matplotlib.lines.Line2D at 0x7f9c610e3d50>]"
      ]
     },
     "execution_count": 95,
     "metadata": {},
     "output_type": "execute_result"
    },
    {
     "data": {
      "image/png": "[encoded data removed]",
      "text/plain": [
       "<Figure size 432x288 with 1 Axes>"
      ]
     },
     "metadata": {
      "needs_background": "light"
     },
     "output_type": "display_data"
    }
   ],
   "source": [
    "plt.plot(X,Ycap)"
   ]
  },
  {
   "cell_type": "code",
   "execution_count": 71,
   "id": "3dbfc092",
   "metadata": {},
   "outputs": [
    {
     "name": "stdout",
     "output_type": "stream",
     "text": [
      "          X         Y\n",
      "X  1.000000  0.872157\n",
      "Y  0.872157  1.000000\n"
     ]
    }
   ],
   "source": [
    "print(data.corr())"
   ]
  },
  {
   "cell_type": "code",
   "execution_count": 85,
   "id": "7b0c2e21",
   "metadata": {},
   "outputs": [],
   "source": [
    "def sse(Y,Ycap):\n",
    "    s=np.size(Y)\n",
    "    i=0\n",
    "    sse1=0\n",
    "    for i in range(s):\n",
    "        sse1+=(Y[i]-Ycap[i])**2\n",
    "        \n",
    "    return sse1\n",
    "        "
   ]
  },
  {
   "cell_type": "code",
   "execution_count": 86,
   "id": "9d5e1374",
   "metadata": {},
   "outputs": [],
   "source": [
    "def mse(Y,Ycap):\n",
    "    s=np.size(Y)\n",
    "    i=0\n",
    "    sse2=0\n",
    "    for i in range(s):\n",
    "        sse2+=(Y[i]-Ycap[i])**2\n",
    "        \n",
    "    return sse2/s"
   ]
  },
  {
   "cell_type": "code",
   "execution_count": 87,
   "id": "6ca12fd8",
   "metadata": {},
   "outputs": [],
   "source": [
    "sse1=sse(Y,Ycap)\n",
    "mse1=mse(Y,Ycap)"
   ]
  },
  {
   "cell_type": "code",
   "execution_count": 92,
   "id": "5774956f",
   "metadata": {},
   "outputs": [
    {
     "name": "stdout",
     "output_type": "stream",
     "text": [
      "Sum Squared Error\n",
      "664.2397254063366\n"
     ]
    }
   ],
   "source": [
    "print(\"Sum Squared Error\")\n",
    "print(sse1)\n"
   ]
  },
  {
   "cell_type": "code",
   "execution_count": 93,
   "id": "c11f6d01",
   "metadata": {},
   "outputs": [
    {
     "name": "stdout",
     "output_type": "stream",
     "text": [
      "Mean Squared Error\n",
      "6.919163806316006\n"
     ]
    }
   ],
   "source": [
    "print(\"Mean Squared Error\")\n",
    "print(mse1)"
   ]
  },
  {
   "cell_type": "code",
   "execution_count": 100,
   "id": "961becc6",
   "metadata": {},
   "outputs": [],
   "source": [
    "def rsqr(Y,Ycap):\n",
    "    s=np.size(Y)\n",
    "    i=0\n",
    "    m_y=np.mean(Y)\n",
    "    ssr=0\n",
    "    sst=0\n",
    "    for i in range(s):\n",
    "        ssr+=(Ycap[i]-m_y)**2\n",
    "        sst+=(Y[i]-m_y)**2\n",
    "        \n",
    "    return ssr/sst\n",
    "        "
   ]
  },
  {
   "cell_type": "code",
   "execution_count": 101,
   "id": "3b35985b",
   "metadata": {},
   "outputs": [
    {
     "name": "stdout",
     "output_type": "stream",
     "text": [
      "R squared :\n",
      "0.7606583419339856\n"
     ]
    }
   ],
   "source": [
    "print(\"R squared :\")\n",
    "print(rsqr(Y,Ycap))"
   ]
  }
 ],
 "metadata": {
  "kernelspec": {
   "display_name": "Python 3 (ipykernel)",
   "language": "python",
   "name": "python3"
  },
  "language_info": {
   "codemirror_mode": {
    "name": "ipython",
    "version": 3
   },
   "file_extension": ".py",
   "mimetype": "text/x-python",
   "name": "python",
   "nbconvert_exporter": "python",
   "pygments_lexer": "ipython3",
   "version": "3.10.6"
  }
 },
 "nbformat": 4,
 "nbformat_minor": 5
}
